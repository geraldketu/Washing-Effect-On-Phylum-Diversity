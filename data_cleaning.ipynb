{
 "cells": [
  {
   "cell_type": "code",
   "execution_count": 114,
   "id": "28fe4632",
   "metadata": {},
   "outputs": [],
   "source": [
    "import pandas as pd"
   ]
  },
  {
   "cell_type": "code",
   "execution_count": 115,
   "id": "0971926e",
   "metadata": {},
   "outputs": [
    {
     "name": "stdout",
     "output_type": "stream",
     "text": [
      "['BBNov_otu_rar1000_L6_no chlor', 'Meta data', 'Notes']\n"
     ]
    }
   ],
   "source": [
    "sheets = pd.ExcelFile(\"Belly Button Batch2_OTU and Metadata_17Nov14.xlsx\").sheet_names\n",
    "print(sheets)\n"
   ]
  },
  {
   "cell_type": "code",
   "execution_count": 116,
   "id": "3355f08a",
   "metadata": {},
   "outputs": [],
   "source": [
    "dataset=pd.read_excel('Belly Button Batch2_OTU and Metadata_17Nov14.xlsx', sheet_name=0)\n",
    "dataset2=pd.read_excel('Belly Button Batch2_OTU and Metadata_17Nov14.xlsx', sheet_name=1)\n"
   ]
  },
  {
   "cell_type": "code",
   "execution_count": 119,
   "id": "b03830fe",
   "metadata": {},
   "outputs": [],
   "source": [
    "dataset.drop(columns=['Kingdom/Domain','Class',\"Order\",\"Family\",\"Genus\",\"Family_Genus\"], inplace=True)"
   ]
  },
  {
   "cell_type": "code",
   "execution_count": 120,
   "id": "febf42a9",
   "metadata": {},
   "outputs": [],
   "source": [
    "dataset =dataset.groupby(\"Phylum\").sum().reset_index()"
   ]
  },
  {
   "cell_type": "code",
   "execution_count": 121,
   "id": "b026aba1",
   "metadata": {},
   "outputs": [],
   "source": [
    "dataset2=dataset2[['ID','Wash_Freq of BB (# times per week)']]"
   ]
  },
  {
   "cell_type": "code",
   "execution_count": 163,
   "id": "565bb855",
   "metadata": {},
   "outputs": [],
   "source": [
    "dataset.drop(dataset.iloc[0:2].index, inplace=True)\n"
   ]
  },
  {
   "cell_type": "code",
   "execution_count": 123,
   "id": "d4edb265",
   "metadata": {},
   "outputs": [],
   "source": [
    "dataset_T = dataset.set_index('Phylum').transpose()\n",
    "dataset_T['NumPhylum'] = (dataset_T > 0).sum(axis=1)\n",
    "dataset_T = dataset_T[['NumPhylum']].reset_index()\n"
   ]
  },
  {
   "cell_type": "code",
   "execution_count": null,
   "id": "d40eb1b6",
   "metadata": {},
   "outputs": [],
   "source": [
    "dataset_T = dataset_T.reset_index()\n",
    "dataset_T = dataset_T[['index', 'NumPhylum']]   \n",
    "dataset_T = dataset_T.rename(columns={'index': 'ID'})\n"
   ]
  },
  {
   "cell_type": "code",
   "execution_count": 125,
   "id": "ecc2e3d6",
   "metadata": {},
   "outputs": [
    {
     "data": {
      "text/html": [
       "<div>\n",
       "<style scoped>\n",
       "    .dataframe tbody tr th:only-of-type {\n",
       "        vertical-align: middle;\n",
       "    }\n",
       "\n",
       "    .dataframe tbody tr th {\n",
       "        vertical-align: top;\n",
       "    }\n",
       "\n",
       "    .dataframe thead th {\n",
       "        text-align: right;\n",
       "    }\n",
       "</style>\n",
       "<table border=\"1\" class=\"dataframe\">\n",
       "  <thead>\n",
       "    <tr style=\"text-align: right;\">\n",
       "      <th>Phylum</th>\n",
       "      <th>ID</th>\n",
       "      <th>NumPhylum</th>\n",
       "    </tr>\n",
       "  </thead>\n",
       "  <tbody>\n",
       "    <tr>\n",
       "      <th>0</th>\n",
       "      <td>1153</td>\n",
       "      <td>3</td>\n",
       "    </tr>\n",
       "    <tr>\n",
       "      <th>1</th>\n",
       "      <td>1161</td>\n",
       "      <td>4</td>\n",
       "    </tr>\n",
       "    <tr>\n",
       "      <th>2</th>\n",
       "      <td>1169</td>\n",
       "      <td>11</td>\n",
       "    </tr>\n",
       "    <tr>\n",
       "      <th>3</th>\n",
       "      <td>979</td>\n",
       "      <td>4</td>\n",
       "    </tr>\n",
       "    <tr>\n",
       "      <th>4</th>\n",
       "      <td>1113</td>\n",
       "      <td>10</td>\n",
       "    </tr>\n",
       "  </tbody>\n",
       "</table>\n",
       "</div>"
      ],
      "text/plain": [
       "Phylum    ID  NumPhylum\n",
       "0       1153          3\n",
       "1       1161          4\n",
       "2       1169         11\n",
       "3        979          4\n",
       "4       1113         10"
      ]
     },
     "execution_count": 125,
     "metadata": {},
     "output_type": "execute_result"
    }
   ],
   "source": [
    "dataset_T.head()"
   ]
  },
  {
   "cell_type": "code",
   "execution_count": 126,
   "id": "ed5302cc",
   "metadata": {},
   "outputs": [],
   "source": [
    "dataset_T.columns.name = None"
   ]
  },
  {
   "cell_type": "code",
   "execution_count": 143,
   "id": "4cc8bc4f",
   "metadata": {},
   "outputs": [],
   "source": [
    "dataset3= dataset_T.merge(dataset2, on=\"ID\", how=\"inner\")"
   ]
  },
  {
   "cell_type": "code",
   "execution_count": 145,
   "id": "cd1d6dfa",
   "metadata": {},
   "outputs": [
    {
     "name": "stdout",
     "output_type": "stream",
     "text": [
      "Percentage of null wash frequencies 42.49084249084249\n"
     ]
    }
   ],
   "source": [
    "null_count = (dataset3['Wash_Freq of BB (# times per week)'] == \"Unknown\").sum()\n",
    "print( f'Percentage of null wash frequencies {(null_count/  len(dataset3))*100}')"
   ]
  },
  {
   "cell_type": "code",
   "execution_count": 146,
   "id": "ca0ba0b3",
   "metadata": {},
   "outputs": [],
   "source": [
    "import numpy as np\n",
    "dataset3 = dataset3.replace('Unknown', np.nan)\n",
    "dataset3=dataset3.dropna()"
   ]
  },
  {
   "cell_type": "code",
   "execution_count": 160,
   "id": "9dbdeac9",
   "metadata": {},
   "outputs": [],
   "source": [
    "dataset3.reset_index(drop=True, inplace=True)"
   ]
  },
  {
   "cell_type": "code",
   "execution_count": 162,
   "id": "007b175c",
   "metadata": {},
   "outputs": [],
   "source": [
    "dataset3.to_csv('clean_phylum_washFreq_BB.csv')"
   ]
  }
 ],
 "metadata": {
  "kernelspec": {
   "display_name": "base",
   "language": "python",
   "name": "python3"
  },
  "language_info": {
   "codemirror_mode": {
    "name": "ipython",
    "version": 3
   },
   "file_extension": ".py",
   "mimetype": "text/x-python",
   "name": "python",
   "nbconvert_exporter": "python",
   "pygments_lexer": "ipython3",
   "version": "3.11.5"
  }
 },
 "nbformat": 4,
 "nbformat_minor": 5
}
